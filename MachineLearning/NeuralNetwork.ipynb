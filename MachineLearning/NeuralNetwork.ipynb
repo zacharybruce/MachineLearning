{
 "cells": [
  {
   "cell_type": "markdown",
   "id": "ae4fa6f1",
   "metadata": {},
   "source": [
    "# Neural Network  \n",
    "This script automates a neural network from the ground up using numpy.  \n",
    "The inputs are 3 variables: temperature, wind, and cloud coverage, and attempts to predict whether a coat should be worn.  \n",
    "Output is the probability that a coat should be worn.  \n",
    "The NN uses the sigmoid activation function, log loss cost function, and stochastic gradient descent."
   ]
  },
  {
   "cell_type": "code",
   "execution_count": 1,
   "id": "1ad293a9",
   "metadata": {},
   "outputs": [],
   "source": [
    "import numpy as np\n",
    "import matplotlib.pyplot as plt"
   ]
  },
  {
   "cell_type": "code",
   "execution_count": 70,
   "id": "cb2e0b25",
   "metadata": {},
   "outputs": [],
   "source": [
    "'''Class initializes the architecture of the NN. User inputs the number of neurons per layer,\n",
    "the learning rate, and the number of epochs over which to train the network. Weights are \n",
    "initialized with random numbers with a mean of 0 and variance of 1'''\n",
    "class Network:\n",
    "    def __init__(self, layers, learning_rate, epochs):\n",
    "        self.layers = layers\n",
    "        self.num_layers = len(layers)  # Number of layers\n",
    "        self.learning_rate = learning_rate  \n",
    "        self.epochs = epochs\n",
    "        self.w = [np.random.randn(j, i) for i,j in zip(self.layers[0:-1], self.layers[1:])]\n",
    "        self.b = [np.random.randn(i, 1) for i in self.layers[1:]]\n",
    "    \n",
    "    \n",
    "    # Propagates thru network using one training example x. Sigmoid activations function is used\n",
    "    # Returns list of activations and zs\n",
    "    def forward_prop(self, x):\n",
    "        activations = [x]  # List of all activations\n",
    "        zs = []  # list of all z's as calulated by wx + b where x is the input to the neuron\n",
    "        \n",
    "        # Loops over all layers of network minus the input layer\n",
    "        for layer,_ in enumerate(self.layers[1:]):\n",
    "            A = np.dot(self.w[layer], activations[layer]) + self.b[layer]\n",
    "            zs.append(A)\n",
    "            activations.append(self.sigmoid(A))\n",
    "\n",
    "        return activations, zs\n",
    "    \n",
    "    \n",
    "    # Calculates change in weights and biases based on gradient descent\n",
    "    # Inputs are one training example (x), and expected output for that example (y)\n",
    "    # Also calculates cost of output\n",
    "    def back_prop(self, x, y):\n",
    "        delta_w = [np.zeros(i.shape) for i in self.w]  # Same shape as weights\n",
    "        delta_b = [np.zeros(i.shape) for i in self.b]  # Same shape as biases\n",
    "        \n",
    "        # Forward pass\n",
    "        activations, zs = self.forward_prop(x)\n",
    "        \n",
    "        cost = self.calculate_cost(activations[-1], y)\n",
    "        \n",
    "        delta = (activations[-1] - y) * self.sigmoid_prime(zs[-1])\n",
    "        delta_b[-1] = delta\n",
    "        delta_w[-1] = np.dot(float(delta), activations[-2].T)\n",
    "        \n",
    "        # Backward pass\n",
    "        for layer in range(2, len(self.layers)):\n",
    "            z_sigmoid = self.sigmoid_prime(zs[-layer])\n",
    "            error = np.dot(self.w[-layer+1].T, float(delta)) * z_sigmoid\n",
    "            delta_b[-layer] = error\n",
    "            delta_w[-layer] = np.dot(error, activations[-(layer+1)].T)\n",
    "            \n",
    "        return delta_w, delta_b, cost\n",
    "    \n",
    "    \n",
    "    # Calculates sigmoid of z\n",
    "    def sigmoid(self, z):\n",
    "        return 1 / (1 + np.exp(-z))\n",
    "    \n",
    "    \n",
    "    # Calculates derivative of sigmoid(z)\n",
    "    def sigmoid_prime(self, z):\n",
    "        return self.sigmoid(z) * (1 - self.sigmoid(z))\n",
    "    \n",
    "    \n",
    "    # Caclulates log loss of one training example x\n",
    "    def calculate_cost(self, x, y):\n",
    "        cost = -(1/self.num_layers) * (y * np.log(x) + (1-y) * np.log(1-x))\n",
    "        \n",
    "        return cost\n",
    "    \n",
    "    \n",
    "    # Plots cost per each epoch\n",
    "    def cost_graph(self, costs):\n",
    "        x = np.linspace(0, self.epochs, self.epochs)\n",
    "        plt.plot(x, costs)\n",
    "        plt.show()        \n",
    "        \n",
    "        \n",
    "    # Trains network over one epoch using stochastic gradient descent\n",
    "    def train(self, x):\n",
    "        delta_w = [np.zeros((j,i)) for i,j in zip(self.layers[0:-1], self.layers[1:])]\n",
    "        delta_b = [np.zeros((i,1)) for i in self.layers[1:]]\n",
    "        \n",
    "        total_cost = 0\n",
    "        \n",
    "        for inpt in x:\n",
    "            del_w, del_b, cost = self.back_prop(inpt[0:-1], inpt[-1])\n",
    "            delta_w = [i+j for i,j in zip(delta_w, del_w)]\n",
    "            delta_b = [i+j for i,j in zip(delta_b, del_b)]\n",
    "            \n",
    "            total_cost += float(cost)\n",
    "            \n",
    "        self.w = [w - (self.learning_rate/len(x)*j) for w,j in zip(self.w, delta_w)]\n",
    "        self.b = [b - (self.learning_rate/len(x)*j) for b,j in zip(self.b, delta_b)]\n",
    "        \n",
    "        return total_cost\n",
    "        "
   ]
  },
  {
   "cell_type": "code",
   "execution_count": null,
   "id": "def4fe61",
   "metadata": {},
   "outputs": [],
   "source": [
    "# Input Data\n",
    "# Initialize result, temperature, wind speed, and cloud coverage arrays\n",
    "put_coat_on = np.array([0, 1, 0, 0, 0, 1, 0, 1, 1, 0, 1, 0])  # coat = 1 ; no coat = 0\n",
    "temperature = np.array([65, 12, 71, 68, 88, 54, 62, 13, 44, 72, 26, 59])  # Degrees in F\n",
    "wind_speed = np.array([1, 8, 3, 4, 9, 12, 0, 5, 12, 6, 3, 0])  # speed in mph\n",
    "cloud_coverage = np.array([0.1, 0.9, 0.3, 0.0, 0.6, 0.5, 0.0, 1.0, 0.7, 0.2, 0.0, 0.2])  # 0 = no clouds ; 1 = full cloud coverage\n",
    "\n",
    "# Scale variables down using using min-max scaling\n",
    "temp_scaled = [(i-np.min(temperature))/(np.max(temperature)-np.min(temperature)) for i in temperature]\n",
    "wind_scaled = [(i-np.min(wind_speed))/(np.max(wind_speed)-np.min(wind_speed)) for i in wind_speed]\n",
    "cloud_scaled = [(i-np.min(cloud_coverage))/(np.max(cloud_coverage)-np.min(cloud_coverage)) for i in cloud_coverage]\n",
    "\n",
    "# Input Array. Each entry is a (4,1) array with the last row as the expected output\n",
    "features = np.array([[[i],[j],[k],[l]] for i,j,k,l in zip(temp_scaled, wind_scaled, cloud_scaled, put_coat_on)])"
   ]
  },
  {
   "cell_type": "code",
   "execution_count": 72,
   "id": "da1638d2",
   "metadata": {},
   "outputs": [
    {
     "data": {
      "image/png": "[encoded data removed]",
      "text/plain": [
       "<Figure size 640x480 with 1 Axes>"
      ]
     },
     "metadata": {},
     "output_type": "display_data"
    },
    {
     "name": "stdout",
     "output_type": "stream",
     "text": [
      "Final Cost: 0.07\n"
     ]
    }
   ],
   "source": [
    "# Initialize Network\n",
    "n = Network([3, 10, 1], 0.5, 10000)\n",
    "    \n",
    "costs = []\n",
    "\n",
    "for i in range(n.epochs):\n",
    "    cost = n.train(features)\n",
    "    costs.append(cost)\n",
    "    \n",
    "n.cost_graph(costs)\n",
    "\n",
    "print(f\"Final Cost: {np.round(costs[-1], 2)}\")"
   ]
  },
  {
   "cell_type": "code",
   "execution_count": null,
   "id": "802bbef5",
   "metadata": {},
   "outputs": [],
   "source": []
  }
 ],
 "metadata": {
  "kernelspec": {
   "display_name": "Python 3 (ipykernel)",
   "language": "python",
   "name": "python3"
  },
  "language_info": {
   "codemirror_mode": {
    "name": "ipython",
    "version": 3
   },
   "file_extension": ".py",
   "mimetype": "text/x-python",
   "name": "python",
   "nbconvert_exporter": "python",
   "pygments_lexer": "ipython3",
   "version": "3.10.1"
  }
 },
 "nbformat": 4,
 "nbformat_minor": 5
}
